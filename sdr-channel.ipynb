{
 "cells": [
  {
   "cell_type": "code",
   "execution_count": null,
   "metadata": {},
   "outputs": [],
   "source": [
    "%matplotlib inline\n",
    "import matplotlib\n",
    "import matplotlib.pyplot as plt\n",
    "import numpy as np\n",
    "from scipy import signal\n",
    "import IPython\n",
    "import matplotlib as mpl\n",
    "mpl.rcParams['figure.figsize'] = (20,8)"
   ]
  },
  {
   "cell_type": "code",
   "execution_count": null,
   "metadata": {},
   "outputs": [],
   "source": [
    "dat = np.fromfile(\"/home/faux/a.sr312500.cf32\", dtype=np.float32).astype(np.float32).view(np.complex64)\n",
    "SR = 225000"
   ]
  },
  {
   "cell_type": "code",
   "execution_count": null,
   "metadata": {},
   "outputs": [],
   "source": [
    "def spec(dat, sr=SR):\n",
    "    plt.specgram(dat, NFFT=32, noverlap=16, Fs=sr)\n",
    "\n",
    "def freq(dat):\n",
    "    plt.psd(dat, NFFT=1024, Fs=SR)\n",
    "\n",
    "def tone(freq, samples):\n",
    "    return np.exp(-2j*np.pi*-freq/SR*np.arange(samples))"
   ]
  },
  {
   "cell_type": "code",
   "execution_count": null,
   "metadata": {},
   "outputs": [],
   "source": [
    "cut = dat[int(0.12*SR):int(0.42*SR)];\n",
    "spec(cut)"
   ]
  },
  {
   "cell_type": "code",
   "execution_count": null,
   "metadata": {},
   "outputs": [],
   "source": [
    "pre = cut[int(0.015*SR):int(0.106*SR)]\n",
    "spec(pre)"
   ]
  },
  {
   "cell_type": "code",
   "execution_count": null,
   "metadata": {},
   "outputs": [],
   "source": [
    "block = len(pre) // 8\n",
    "for i in range(8):\n",
    "    plt.subplot(2, 4, i + 1)\n",
    "    freq(pre[i * block : (i+1) * block])"
   ]
  },
  {
   "cell_type": "code",
   "execution_count": null,
   "metadata": {},
   "outputs": [],
   "source": [
    "spec(pre*np.exp(-2j*np.pi*7/SR*np.arange(len(pre))))"
   ]
  },
  {
   "cell_type": "code",
   "execution_count": null,
   "metadata": {},
   "outputs": [],
   "source": [
    "n_taps = 32\n",
    "f_bw = 25000\n",
    "lpf = signal.remez(n_taps, [0, f_bw, f_bw+(SR/2-f_bw)/4, SR/2], [1,0], Hz=SR)\n",
    "dec = signal.decimate(pre, 4, zero_phase=True)\n",
    "spec(dec)"
   ]
  },
  {
   "cell_type": "code",
   "execution_count": null,
   "metadata": {},
   "outputs": [],
   "source": [
    "import scipy.fftpack as ffts\n",
    "import operator\n",
    "\n",
    "from itertools import islice\n",
    "\n",
    "def chunks(l, n):\n",
    "    \"\"\"Yield successive n-sized chunks from l.\"\"\"\n",
    "    for i in range(0, len(l), n // 2):\n",
    "        yield l[i:i + n]\n",
    "\n",
    "def best(slic):\n",
    "    mags = [abs(x*x) for x in ffts.ifft(slic)]\n",
    "    mags = mags[len(slic)//2:] + mags[:len(slic)//2]\n",
    "    return max(enumerate(mags), key=operator.itemgetter(1))[0]\n",
    "\n",
    "_ = plt.plot([16-best(x) for x in chunks(dec, 16)])"
   ]
  },
  {
   "cell_type": "code",
   "execution_count": null,
   "metadata": {},
   "outputs": [],
   "source": [
    "import scipy.fftpack as ffts\n",
    "import operator\n",
    "\n",
    "from itertools import islice\n",
    "\n",
    "def chunks(l, n):\n",
    "    for i in range(0, len(l), n // 4):\n",
    "        yield l[i:i + n]\n",
    "\n",
    "def best(slic):\n",
    "    mags = (abs(x) for x in ffts.ifft(slic))\n",
    "    low = sum(islice(mags, len(slic) // 2))\n",
    "    hi = sum(mags)\n",
    "    return low / hi\n",
    "\n",
    "dat = [best(x) for x in chunks(dec, 16)]\n",
    "_ = plt.plot(dat[600:])"
   ]
  },
  {
   "cell_type": "code",
   "execution_count": null,
   "metadata": {},
   "outputs": [],
   "source": [
    "def dec(val):\n",
    "    cur = False\n",
    "    lo = 0\n",
    "    hi = 0\n",
    "    un = 0\n",
    "    for item in val:\n",
    "        if item < 1:\n",
    "            if cur:\n",
    "                for i in range(round((hi+un)/8)):\n",
    "                    yield cur\n",
    "                #yield (lo, hi, un)\n",
    "                lo = 0; hi = 0; un = 0\n",
    "                cur = False\n",
    "            else:\n",
    "                lo += 1\n",
    "        elif item > 3:\n",
    "            if not cur:\n",
    "                for i in range(round((lo+un)/8)):\n",
    "                    yield cur\n",
    "                #yield (lo, hi, un)\n",
    "                lo = 0; hi = 0; un = 0\n",
    "                cur = True\n",
    "            else:\n",
    "                hi += 1\n",
    "        else:\n",
    "            un += 1\n",
    "\n",
    "man = list(dec(dat))\n",
    "_ = plt.stem(man[75:])"
   ]
  },
  {
   "cell_type": "code",
   "execution_count": null,
   "metadata": {},
   "outputs": [],
   "source": [
    "def slide(x):\n",
    "    for i in range(0, len(x), 8):\n",
    "        yield x[i:i+8]\n",
    "\n",
    "bits = ''.join('0' if x else '1' for x in man[80:])\n",
    "[list(int(x, 2) for x in slide(bits[s:])) for s in range(12)]"
   ]
  }
 ],
 "metadata": {
  "kernelspec": {
   "display_name": "Python 3",
   "language": "python",
   "name": "python3"
  },
  "language_info": {
   "codemirror_mode": {
    "name": "ipython",
    "version": 3
   },
   "file_extension": ".py",
   "mimetype": "text/x-python",
   "name": "python",
   "nbconvert_exporter": "python",
   "pygments_lexer": "ipython3",
   "version": "3.6.5rc1"
  }
 },
 "nbformat": 4,
 "nbformat_minor": 2
}

{
 "cells": [
  {
   "cell_type": "code",
   "execution_count": null,
   "metadata": {},
   "outputs": [],
   "source": [
    "%matplotlib inline\n",
    "import matplotlib\n",
    "import matplotlib.pyplot as plt\n",
    "import numpy as np\n",
    "from scipy import signal\n",
    "import IPython\n",
    "import matplotlib as mpl\n",
    "mpl.rcParams['figure.figsize'] = (16,8)"
   ]
  },
  {
   "cell_type": "code",
   "execution_count": null,
   "metadata": {},
   "outputs": [],
   "source": [
    "dat = np.fromfile(\"/home/faux/a.sr2048000.cu8\", dtype=np.uint8).astype(np.float32, casting='safe').view(np.complex64)\n",
    "SR = 2048000"
   ]
  },
  {
   "cell_type": "code",
   "execution_count": null,
   "metadata": {},
   "outputs": [],
   "source": [
    "def spec(dat, sr=SR):\n",
    "    plt.specgram(dat, NFFT=32, noverlap=8, Fs=sr)\n",
    "\n",
    "def freq(dat):\n",
    "    plt.psd(dat, NFFT=1024, Fs=SR)\n",
    "\n",
    "def tone(freq, samples, sr=SR):\n",
    "    return np.exp(-2j*np.pi*-freq/sr*np.arange(samples))"
   ]
  },
  {
   "cell_type": "code",
   "execution_count": null,
   "metadata": {},
   "outputs": [],
   "source": [
    "cut = dat[int(0.62*SR):int((0.62+0.079)*SR)];\n",
    "spec(cut)"
   ]
  },
  {
   "cell_type": "code",
   "execution_count": null,
   "metadata": {},
   "outputs": [],
   "source": [
    "def deci(wat, by):\n",
    "    return signal.decimate(wat, by, zero_phase=False)"
   ]
  },
  {
   "cell_type": "code",
   "execution_count": null,
   "metadata": {
    "scrolled": false
   },
   "outputs": [],
   "source": [
    "chan = deci(cut*tone(-200e3, len(cut)), 16)\n",
    "\n",
    "# TODO: no idea where this 400k comes from, it's should be 25k, which is off by 16.\n",
    "left = deci(chan*tone(-410e3, len(chan), sr=SR//16), 4)\n",
    "right = deci(chan*tone(410e3/16, len(chan), sr=SR//16), 4)\n",
    "\n",
    "plt.subplot(311); spec(chan, sr=SR//16)\n",
    "plt.subplot(312); spec(left, sr=SR//16//4)\n",
    "plt.subplot(313); spec(right, sr=SR//16//4)"
   ]
  },
  {
   "cell_type": "code",
   "execution_count": null,
   "metadata": {},
   "outputs": [],
   "source": [
    "def w(l, n):\n",
    "    for i in range(0, len(l), n // 8):\n",
    "        yield l[i:i + n]\n",
    "\n",
    "dat = list(x-y for (x,y) in zip(\n",
    "    (sum(abs(x)) for x in w(left, 8)),\n",
    "    (sum(abs(x)) for x in w(right, 8))\n",
    "))\n",
    "_ = plt.plot(dat)"
   ]
  },
  {
   "cell_type": "code",
   "execution_count": null,
   "metadata": {},
   "outputs": [],
   "source": [
    "POW = 200\n",
    "''.join('1' if x > POW else '0' if x < -POW else '_' for x in dat)"
   ]
  },
  {
   "cell_type": "code",
   "execution_count": null,
   "metadata": {},
   "outputs": [],
   "source": [
    "SYM = 13\n",
    "\n",
    "def deco(val):\n",
    "    cur = False\n",
    "    lo = 0\n",
    "    hi = 0\n",
    "    un = 0\n",
    "    for item in val:\n",
    "        if item < -POW:\n",
    "            if cur:\n",
    "                for i in range(round((hi+un)/SYM)):\n",
    "                    yield cur\n",
    "                #yield (lo, hi, un)\n",
    "                lo = 0; hi = 0; un = 0\n",
    "                cur = False\n",
    "            else:\n",
    "                lo += 1\n",
    "        elif item > POW:\n",
    "            if not cur:\n",
    "                for i in range(round((lo+un)/SYM)):\n",
    "                    yield cur\n",
    "                #yield (lo, hi, un)\n",
    "                lo = 0; hi = 0; un = 0\n",
    "                cur = True\n",
    "            else:\n",
    "                hi += 1\n",
    "        else:\n",
    "            un += 1\n",
    "\n",
    "man = list(deco(dat))\n",
    "_ = plt.stem(man[53:])"
   ]
  },
  {
   "cell_type": "code",
   "execution_count": null,
   "metadata": {},
   "outputs": [],
   "source": [
    "def deman(arr):\n",
    "    for i in range(0, len(arr), 2):\n",
    "        pair = arr[i:i+2]\n",
    "        if [True, False] == pair:\n",
    "            yield '0'\n",
    "        elif [False, True] == pair:\n",
    "            yield '1'\n",
    "        else:\n",
    "            return\n",
    "\n",
    "bits = ''.join(deman(man[52:]))\n",
    "bits"
   ]
  },
  {
   "cell_type": "code",
   "execution_count": null,
   "metadata": {},
   "outputs": [],
   "source": [
    "def slide(x):\n",
    "    for i in range(0, len(x), 8):\n",
    "        yield x[i:i+8]\n",
    "\n",
    "[''.join(chr(int(x, 2)) for x in slide(bits[s:])) for s in range(8)]"
   ]
  }
 ],
 "metadata": {
  "kernelspec": {
   "display_name": "Python 3",
   "language": "python",
   "name": "python3"
  },
  "language_info": {
   "codemirror_mode": {
    "name": "ipython",
    "version": 3
   },
   "file_extension": ".py",
   "mimetype": "text/x-python",
   "name": "python",
   "nbconvert_exporter": "python",
   "pygments_lexer": "ipython3",
   "version": "3.6.5rc1"
  }
 },
 "nbformat": 4,
 "nbformat_minor": 2
}

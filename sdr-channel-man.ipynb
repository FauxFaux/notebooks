{
 "cells": [
  {
   "cell_type": "code",
   "execution_count": null,
   "metadata": {},
   "outputs": [],
   "source": [
    "%matplotlib inline\n",
    "import matplotlib\n",
    "import matplotlib.pyplot as plt\n",
    "import numpy as np\n",
    "from scipy import signal\n",
    "import IPython\n",
    "import matplotlib as mpl\n",
    "mpl.rcParams['figure.figsize'] = (16,8)"
   ]
  },
  {
   "cell_type": "code",
   "execution_count": null,
   "metadata": {},
   "outputs": [],
   "source": [
    "dat = np.fromfile(\"/home/faux/a.sr2048000.cu8\", dtype=np.uint8).astype(np.float32, casting='safe').view(np.complex64)\n",
    "SR = 2048000"
   ]
  },
  {
   "cell_type": "code",
   "execution_count": null,
   "metadata": {},
   "outputs": [],
   "source": [
    "def spec(dat, sr=SR):\n",
    "    plt.specgram(dat, NFFT=32, noverlap=16, Fs=sr)\n",
    "\n",
    "def freq(dat):\n",
    "    plt.psd(dat, NFFT=1024, Fs=SR)\n",
    "\n",
    "def tone(freq, samples):\n",
    "    return np.exp(-2j*np.pi*-freq/SR*np.arange(samples))"
   ]
  },
  {
   "cell_type": "code",
   "execution_count": null,
   "metadata": {},
   "outputs": [],
   "source": [
    "spec(dat[:SR])"
   ]
  },
  {
   "cell_type": "code",
   "execution_count": null,
   "metadata": {},
   "outputs": [],
   "source": [
    "cut = dat[int(0.6*SR):int(0.95*SR)];\n",
    "spec(cut)"
   ]
  },
  {
   "cell_type": "code",
   "execution_count": null,
   "metadata": {},
   "outputs": [],
   "source": [
    "shift = cut*np.exp(-2j*np.pi*200e3/SR*np.arange(len(cut)))\n",
    "spec(shift)"
   ]
  },
  {
   "cell_type": "code",
   "execution_count": null,
   "metadata": {},
   "outputs": [],
   "source": [
    "n_taps = 32\n",
    "f_bw = 25000\n",
    "lpf = signal.remez(n_taps, [0, f_bw, f_bw+(SR/2-f_bw)/4, SR/2], [1,0], Hz=SR)\n",
    "dec = signal.decimate(shift[int(0.02*SR):int(0.098*SR)], 16, zero_phase=True)\n",
    "spec(dec)"
   ]
  },
  {
   "cell_type": "code",
   "execution_count": null,
   "metadata": {},
   "outputs": [],
   "source": [
    "import scipy.fftpack as ffts\n",
    "import operator\n",
    "\n",
    "from itertools import islice\n",
    "\n",
    "def chunks(l, n):\n",
    "    \"\"\"Yield successive n-sized chunks from l.\"\"\"\n",
    "    for i in range(0, len(l), n // 2):\n",
    "        yield l[i:i + n]\n",
    "\n",
    "def best(slic):\n",
    "    mags = [abs(x*x) for x in ffts.ifft(slic)]\n",
    "    mags = mags[len(slic)//2:] + mags[:len(slic)//2]\n",
    "    return max(enumerate(mags), key=operator.itemgetter(1))[0]\n",
    "\n",
    "_ = plt.plot([16-best(x) for x in chunks(dec, 16)])"
   ]
  },
  {
   "cell_type": "code",
   "execution_count": null,
   "metadata": {},
   "outputs": [],
   "source": [
    "import scipy.fftpack as ffts\n",
    "import operator\n",
    "\n",
    "from itertools import islice\n",
    "\n",
    "def chunks(l, n):\n",
    "    for i in range(0, len(l), n // 4):\n",
    "        yield l[i:i + n]\n",
    "\n",
    "def best(slic):\n",
    "    mags = (abs(x) for x in ffts.ifft(slic))\n",
    "    low = sum(islice(mags, len(slic) // 2))\n",
    "    hi = sum(mags)\n",
    "    return low - hi\n",
    "\n",
    "dat = [best(x) for x in chunks(dec, 16)]\n",
    "_ = plt.plot(dat[600:])\n"
   ]
  },
  {
   "cell_type": "code",
   "execution_count": null,
   "metadata": {},
   "outputs": [],
   "source": [
    "POW = 100\n",
    "''.join('1' if x > POW else '0' if x < -POW else '_' for x in dat)"
   ]
  },
  {
   "cell_type": "code",
   "execution_count": null,
   "metadata": {},
   "outputs": [],
   "source": [
    "SYM = 13\n",
    "\n",
    "def deco(val):\n",
    "    cur = False\n",
    "    lo = 0\n",
    "    hi = 0\n",
    "    un = 0\n",
    "    for item in val:\n",
    "        if item < -POW:\n",
    "            if cur:\n",
    "                for i in range(round((hi+un)/SYM)):\n",
    "                    yield cur\n",
    "                #yield (lo, hi, un)\n",
    "                lo = 0; hi = 0; un = 0\n",
    "                cur = False\n",
    "            else:\n",
    "                lo += 1\n",
    "        elif item > POW:\n",
    "            if not cur:\n",
    "                for i in range(round((lo+un)/SYM)):\n",
    "                    yield cur\n",
    "                #yield (lo, hi, un)\n",
    "                lo = 0; hi = 0; un = 0\n",
    "                cur = True\n",
    "            else:\n",
    "                hi += 1\n",
    "        else:\n",
    "            un += 1\n",
    "\n",
    "man = list(deco(dat))\n",
    "_ = plt.stem(man[56:])"
   ]
  },
  {
   "cell_type": "code",
   "execution_count": null,
   "metadata": {},
   "outputs": [],
   "source": [
    "def deman(arr):\n",
    "    for i in range(0, len(arr), 2):\n",
    "        pair = arr[i:i+2]\n",
    "        if [True, False] == pair:\n",
    "            yield '1'\n",
    "        elif [False, True] == pair:\n",
    "            yield '0'\n",
    "        else:\n",
    "            return\n",
    "\n",
    "bits = ''.join(deman(man[55:]))\n",
    "bits"
   ]
  },
  {
   "cell_type": "code",
   "execution_count": null,
   "metadata": {},
   "outputs": [],
   "source": [
    "def slide(x):\n",
    "    for i in range(0, len(x), 8):\n",
    "        yield x[i:i+8]\n",
    "\n",
    "[''.join(chr(int(x, 2)) for x in slide(bits[s:])) for s in range(12)]"
   ]
  }
 ],
 "metadata": {
  "kernelspec": {
   "display_name": "Python 3",
   "language": "python",
   "name": "python3"
  },
  "language_info": {
   "codemirror_mode": {
    "name": "ipython",
    "version": 3
   },
   "file_extension": ".py",
   "mimetype": "text/x-python",
   "name": "python",
   "nbconvert_exporter": "python",
   "pygments_lexer": "ipython3",
   "version": "3.6.5rc1"
  }
 },
 "nbformat": 4,
 "nbformat_minor": 2
}
